{
 "cells": [
  {
   "cell_type": "markdown",
   "id": "9b68245c",
   "metadata": {},
   "source": [
    "# Introduction"
   ]
  },
  {
   "cell_type": "markdown",
   "id": "84f0f7ca",
   "metadata": {},
   "source": [
    "Within this project, we will be working with housing data from the city of Ames, Iowa, United States. This data spans from years 2006 to 2010. For a link on the information of the housing data, follow here: https://s3.amazonaws.com/dq-content/307/data_description.txt. To see the column descriptions, click on the 'AmesHousing.tsv' file in the relative folder. For the source of the data, see https://www.tandfonline.com/doi/abs/10.1080/10691898.2011.11889627."
   ]
  },
  {
   "cell_type": "markdown",
   "id": "c8078053",
   "metadata": {},
   "source": [
    "\n",
    "The purpose of this project is to develop a linear regression model that will predict these house prices within the training and test set. "
   ]
  },
  {
   "cell_type": "markdown",
   "id": "45de5bcf",
   "metadata": {},
   "source": [
    "Let us first import all the *modules* necessary for this exploration: "
   ]
  },
  {
   "cell_type": "code",
   "execution_count": 67,
   "id": "351aee99",
   "metadata": {},
   "outputs": [],
   "source": [
    "import pandas as pd \n",
    "import seaborn as sns\n",
    "import numpy as np \n",
    "import warnings\n",
    "import matplotlib.pyplot as plt\n",
    "from scipy import stats as st\n",
    "from pandas.core.common import SettingWithCopyWarning\n",
    "from sklearn.linear_model import LinearRegression\n",
    "from sklearn.metrics import mean_squared_error\n",
    "from sklearn.preprocessing import MinMaxScaler\n",
    "from sklearn.model_selection import train_test_split, cross_val_score, KFold\n",
    "from sklearn.decomposition import PCA"
   ]
  },
  {
   "cell_type": "markdown",
   "id": "55413cb5",
   "metadata": {},
   "source": [
    "We will now read the file in and creating functions that will ease this exploration and be re-used and modified throughout this project."
   ]
  },
  {
   "cell_type": "code",
   "execution_count": 68,
   "id": "b6a78167",
   "metadata": {},
   "outputs": [],
   "source": [
    "house = pd.read_csv('AmesHousing.tsv', delimiter= \"\\t\")"
   ]
  },
  {
   "cell_type": "code",
   "execution_count": 69,
   "id": "31a08c3f",
   "metadata": {},
   "outputs": [],
   "source": [
    "def variance_cutoff(df, cutoff):\n",
    "    variances =df.var()\n",
    "    variance_bool = variances > cutoff\n",
    "    newvariances = variances[variance_bool]\n",
    "    return newvariances.index"
   ]
  },
  {
   "cell_type": "code",
   "execution_count": 70,
   "id": "6696c7fe",
   "metadata": {},
   "outputs": [],
   "source": [
    "def select_features(df, corr_cutoff):\n",
    "    house_num = housetr.select_dtypes(include=['int64','float64'])\n",
    "    house_corr = house_num.corr()\n",
    "    house_corr_saleprice = abs(house_corr['SalePrice'])\n",
    "    housecorrbool = house_corr_saleprice > corr_cutoff\n",
    "    refined_corrs = house_corr_saleprice[housecorrbool]\n",
    "    return refined_corrs.index.drop('SalePrice')"
   ]
  },
  {
   "cell_type": "code",
   "execution_count": 71,
   "id": "62082e30",
   "metadata": {},
   "outputs": [],
   "source": [
    "def transform_features(df):\n",
    "    warnings.simplefilter(action=\"ignore\", category=SettingWithCopyWarning)\n",
    "    \n",
    "    # Eliminates columns with more than 25% of null values\n",
    "    null_counts = df.isnull().sum()\n",
    "    bool_1 = null_counts < 0.25 * df.shape[0]\n",
    "    modified = df[null_counts[bool_1].index]\n",
    "    \n",
    "    # Selects numerical columns with 5% or less null values\n",
    "    numerical = modified.select_dtypes(include=['int64','float64'])\n",
    "    numerical_null_counts = numerical.isnull().sum()\n",
    "    numerical_null_bool = numerical_null_counts < 0.05*df.shape[0]\n",
    "    numerical_low_null = modified[numerical_null_counts\n",
    "                                  [numerical_null_bool].index]\n",
    "    \n",
    "    # Fills all the numerical columns with <5% null values with its respective mode \n",
    "    for col in numerical_low_null.columns:\n",
    "        numerical_low_null[col] = numerical_low_null[col].fillna(numerical_low_null[col].value_counts().index[0])\n",
    "    modified[numerical_low_null.columns] = numerical_low_null.copy()\n",
    "    \n",
    "    # Otherwise fills the rest of numerical between 5-25% with its mean\n",
    "    for col in numerical.columns:\n",
    "        modified[col] = modified[col].fillna(np.mean(modified[col])) \n",
    "        \n",
    "    return modified"
   ]
  },
  {
   "cell_type": "code",
   "execution_count": 72,
   "id": "5ce71dfc",
   "metadata": {},
   "outputs": [],
   "source": [
    "def pc_analysis(df, n):\n",
    "    pca = PCA(n_components=n)\n",
    "    pca.fit(df)\n",
    "    variance_ratios = pca.explained_variance_ratio_.cumsum()*100\n",
    "    print(\"Cumulative Variance:\")\n",
    "    print(variance_ratios)\n",
    "    plt.plot(range(1,1+len(variance_ratios)), variance_ratios)\n",
    "    plt.xlabel('# of components')\n",
    "    plt.ylabel('cumulative variance')\n",
    "    plt.show()\n",
    "    return pca"
   ]
  },
  {
   "cell_type": "code",
   "execution_count": 73,
   "id": "8f337df2",
   "metadata": {},
   "outputs": [],
   "source": [
    "# The purpose of this function is to train and test the given data-set via multiple techniques depending on the k-value\n",
    "# given, speicfying how many folds wanted\n",
    "\n",
    "def train_and_test(df,k): \n",
    "    warnings.simplefilter(action=\"ignore\", category=FutureWarning)\n",
    "    lr = LinearRegression()\n",
    "    if 'SalePrice' in df.columns:\n",
    "        feature_list = df.drop(['SalePrice'],axis=1).columns\n",
    "    if 'SalePrice' not in df.columns: \n",
    "        feature_list = df.columns\n",
    "        df['SalePrice'] = house['SalePrice']\n",
    "    \n",
    "    # If number of splits desired is greater than 1, performs K-Fold Cross Validation\n",
    "    if k>1:\n",
    "        kf = KFold(n_splits=k, shuffle=True, random_state=1)\n",
    "        mses = cross_val_score(lr, df[feature_list], df['SalePrice'], \n",
    "                           scoring='neg_mean_squared_error', cv=kf)\n",
    "        mses_abs = abs(mses)\n",
    "        rmses = mses_abs**(1/2)\n",
    "        rmse_avg = np.mean(rmses)\n",
    "        \n",
    "        return rmse_avg\n",
    "    \n",
    "    # If number of splits is equal to one, it will split the dataset into two folds, performing training on one fold \n",
    "    # and testing on the other, and vice versa, averaging the yield RMSEs. \n",
    "    \n",
    "    if k==1:\n",
    "        np.random.seed(1)\n",
    "        shuffle_index = np.random.permutation(df.index)\n",
    "        df = df.reindex(shuffle_index)\n",
    "        \n",
    "        fold_one = df.iloc[0:1460]\n",
    "        fold_two = df.iloc[1460:]\n",
    "        \n",
    "        lr.fit(fold_one[feature_list], fold_one['SalePrice'])\n",
    "        predict_1 = lr.predict(fold_two[feature_list])\n",
    "        \n",
    "        mse_1 = mean_squared_error(predict_1, fold_two['SalePrice'])\n",
    "        \n",
    "        lr.fit(fold_two[feature_list], fold_two['SalePrice'])\n",
    "        \n",
    "        predict_2 = lr.predict(fold_one[feature_list])\n",
    "        mse_2 = mean_squared_error(predict_2, fold_one['SalePrice'])\n",
    "        \n",
    "        rmse_avg = (np.mean(mse_1 + mse_2))**(1/2)\n",
    "        \n",
    "        return rmse_avg \n",
    "    \n",
    "    # If the value of k==0, performs a basic 50/50 split for train/test validation. \n",
    "    \n",
    "    else:\n",
    "        train = df.iloc[0:1460]\n",
    "        test = df.iloc[1460:]\n",
    "        lr.fit(train[feature_list], train['SalePrice'])\n",
    "        predictions = lr.predict(test[feature_list])\n",
    "        mse_list = mean_squared_error(predictions, test['SalePrice'])\n",
    "        rmse_avg = (np.mean(mse_list))**(1/2)\n",
    "        \n",
    "        return rmse_avg"
   ]
  },
  {
   "cell_type": "markdown",
   "id": "3b62fe95",
   "metadata": {},
   "source": [
    "# Feature Engineering & Data Cleaning"
   ]
  },
  {
   "cell_type": "markdown",
   "id": "84dc368c",
   "metadata": {},
   "source": [
    "Let us now begin to remove features with missing values, find features that can be categorial, transform text/numerical columns. We can define a function transform_features() to do all of these operations for us."
   ]
  },
  {
   "cell_type": "code",
   "execution_count": 74,
   "id": "a77e83c8",
   "metadata": {},
   "outputs": [],
   "source": [
    "housetr = transform_features(house)"
   ]
  },
  {
   "cell_type": "code",
   "execution_count": 75,
   "id": "e56ced7c",
   "metadata": {},
   "outputs": [
    {
     "data": {
      "text/plain": [
       "0      27\n",
       "80      3\n",
       "159     3\n",
       "23      1\n",
       "83      1\n",
       "81      1\n",
       "1       1\n",
       "157     1\n",
       "dtype: int64"
      ]
     },
     "execution_count": 75,
     "metadata": {},
     "output_type": "execute_result"
    }
   ],
   "source": [
    "housetr.select_dtypes(include=['object']).isnull().sum().value_counts()"
   ]
  },
  {
   "cell_type": "markdown",
   "id": "91ce40cf",
   "metadata": {},
   "source": [
    "Let us explore the dataset further to see if we can better capture some of the information in the feature columns. We will also see if columns need to be dropped if they aren't useful for machine learning or leak data about final sale."
   ]
  },
  {
   "cell_type": "code",
   "execution_count": 76,
   "id": "aa58b63e",
   "metadata": {},
   "outputs": [
    {
     "data": {
      "text/html": [
       "<div>\n",
       "<style scoped>\n",
       "    .dataframe tbody tr th:only-of-type {\n",
       "        vertical-align: middle;\n",
       "    }\n",
       "\n",
       "    .dataframe tbody tr th {\n",
       "        vertical-align: top;\n",
       "    }\n",
       "\n",
       "    .dataframe thead th {\n",
       "        text-align: right;\n",
       "    }\n",
       "</style>\n",
       "<table border=\"1\" class=\"dataframe\">\n",
       "  <thead>\n",
       "    <tr style=\"text-align: right;\">\n",
       "      <th></th>\n",
       "      <th>Order</th>\n",
       "      <th>PID</th>\n",
       "      <th>MS SubClass</th>\n",
       "      <th>MS Zoning</th>\n",
       "      <th>Lot Frontage</th>\n",
       "      <th>Lot Area</th>\n",
       "      <th>Street</th>\n",
       "      <th>Lot Shape</th>\n",
       "      <th>Land Contour</th>\n",
       "      <th>Utilities</th>\n",
       "      <th>...</th>\n",
       "      <th>Enclosed Porch</th>\n",
       "      <th>3Ssn Porch</th>\n",
       "      <th>Screen Porch</th>\n",
       "      <th>Pool Area</th>\n",
       "      <th>Misc Val</th>\n",
       "      <th>Mo Sold</th>\n",
       "      <th>Yr Sold</th>\n",
       "      <th>Sale Type</th>\n",
       "      <th>Sale Condition</th>\n",
       "      <th>SalePrice</th>\n",
       "    </tr>\n",
       "  </thead>\n",
       "  <tbody>\n",
       "    <tr>\n",
       "      <th>0</th>\n",
       "      <td>1</td>\n",
       "      <td>526301100</td>\n",
       "      <td>20</td>\n",
       "      <td>RL</td>\n",
       "      <td>141.0</td>\n",
       "      <td>31770</td>\n",
       "      <td>Pave</td>\n",
       "      <td>IR1</td>\n",
       "      <td>Lvl</td>\n",
       "      <td>AllPub</td>\n",
       "      <td>...</td>\n",
       "      <td>0</td>\n",
       "      <td>0</td>\n",
       "      <td>0</td>\n",
       "      <td>0</td>\n",
       "      <td>0</td>\n",
       "      <td>5</td>\n",
       "      <td>2010</td>\n",
       "      <td>WD</td>\n",
       "      <td>Normal</td>\n",
       "      <td>215000</td>\n",
       "    </tr>\n",
       "    <tr>\n",
       "      <th>1</th>\n",
       "      <td>2</td>\n",
       "      <td>526350040</td>\n",
       "      <td>20</td>\n",
       "      <td>RH</td>\n",
       "      <td>80.0</td>\n",
       "      <td>11622</td>\n",
       "      <td>Pave</td>\n",
       "      <td>Reg</td>\n",
       "      <td>Lvl</td>\n",
       "      <td>AllPub</td>\n",
       "      <td>...</td>\n",
       "      <td>0</td>\n",
       "      <td>0</td>\n",
       "      <td>120</td>\n",
       "      <td>0</td>\n",
       "      <td>0</td>\n",
       "      <td>6</td>\n",
       "      <td>2010</td>\n",
       "      <td>WD</td>\n",
       "      <td>Normal</td>\n",
       "      <td>105000</td>\n",
       "    </tr>\n",
       "    <tr>\n",
       "      <th>2</th>\n",
       "      <td>3</td>\n",
       "      <td>526351010</td>\n",
       "      <td>20</td>\n",
       "      <td>RL</td>\n",
       "      <td>81.0</td>\n",
       "      <td>14267</td>\n",
       "      <td>Pave</td>\n",
       "      <td>IR1</td>\n",
       "      <td>Lvl</td>\n",
       "      <td>AllPub</td>\n",
       "      <td>...</td>\n",
       "      <td>0</td>\n",
       "      <td>0</td>\n",
       "      <td>0</td>\n",
       "      <td>0</td>\n",
       "      <td>12500</td>\n",
       "      <td>6</td>\n",
       "      <td>2010</td>\n",
       "      <td>WD</td>\n",
       "      <td>Normal</td>\n",
       "      <td>172000</td>\n",
       "    </tr>\n",
       "    <tr>\n",
       "      <th>3</th>\n",
       "      <td>4</td>\n",
       "      <td>526353030</td>\n",
       "      <td>20</td>\n",
       "      <td>RL</td>\n",
       "      <td>93.0</td>\n",
       "      <td>11160</td>\n",
       "      <td>Pave</td>\n",
       "      <td>Reg</td>\n",
       "      <td>Lvl</td>\n",
       "      <td>AllPub</td>\n",
       "      <td>...</td>\n",
       "      <td>0</td>\n",
       "      <td>0</td>\n",
       "      <td>0</td>\n",
       "      <td>0</td>\n",
       "      <td>0</td>\n",
       "      <td>4</td>\n",
       "      <td>2010</td>\n",
       "      <td>WD</td>\n",
       "      <td>Normal</td>\n",
       "      <td>244000</td>\n",
       "    </tr>\n",
       "    <tr>\n",
       "      <th>4</th>\n",
       "      <td>5</td>\n",
       "      <td>527105010</td>\n",
       "      <td>60</td>\n",
       "      <td>RL</td>\n",
       "      <td>74.0</td>\n",
       "      <td>13830</td>\n",
       "      <td>Pave</td>\n",
       "      <td>IR1</td>\n",
       "      <td>Lvl</td>\n",
       "      <td>AllPub</td>\n",
       "      <td>...</td>\n",
       "      <td>0</td>\n",
       "      <td>0</td>\n",
       "      <td>0</td>\n",
       "      <td>0</td>\n",
       "      <td>0</td>\n",
       "      <td>3</td>\n",
       "      <td>2010</td>\n",
       "      <td>WD</td>\n",
       "      <td>Normal</td>\n",
       "      <td>189900</td>\n",
       "    </tr>\n",
       "  </tbody>\n",
       "</table>\n",
       "<p>5 rows × 77 columns</p>\n",
       "</div>"
      ],
      "text/plain": [
       "   Order        PID  MS SubClass MS Zoning  Lot Frontage  Lot Area Street  \\\n",
       "0      1  526301100           20        RL         141.0     31770   Pave   \n",
       "1      2  526350040           20        RH          80.0     11622   Pave   \n",
       "2      3  526351010           20        RL          81.0     14267   Pave   \n",
       "3      4  526353030           20        RL          93.0     11160   Pave   \n",
       "4      5  527105010           60        RL          74.0     13830   Pave   \n",
       "\n",
       "  Lot Shape Land Contour Utilities  ... Enclosed Porch 3Ssn Porch  \\\n",
       "0       IR1          Lvl    AllPub  ...              0          0   \n",
       "1       Reg          Lvl    AllPub  ...              0          0   \n",
       "2       IR1          Lvl    AllPub  ...              0          0   \n",
       "3       Reg          Lvl    AllPub  ...              0          0   \n",
       "4       IR1          Lvl    AllPub  ...              0          0   \n",
       "\n",
       "  Screen Porch Pool Area Misc Val Mo Sold Yr Sold  Sale Type  Sale Condition  \\\n",
       "0            0         0        0       5    2010        WD           Normal   \n",
       "1          120         0        0       6    2010        WD           Normal   \n",
       "2            0         0    12500       6    2010        WD           Normal   \n",
       "3            0         0        0       4    2010        WD           Normal   \n",
       "4            0         0        0       3    2010        WD           Normal   \n",
       "\n",
       "   SalePrice  \n",
       "0     215000  \n",
       "1     105000  \n",
       "2     172000  \n",
       "3     244000  \n",
       "4     189900  \n",
       "\n",
       "[5 rows x 77 columns]"
      ]
     },
     "execution_count": 76,
     "metadata": {},
     "output_type": "execute_result"
    }
   ],
   "source": [
    "housetr.head()"
   ]
  },
  {
   "cell_type": "code",
   "execution_count": 77,
   "id": "bd97f3f2",
   "metadata": {},
   "outputs": [
    {
     "data": {
      "text/html": [
       "<div>\n",
       "<style scoped>\n",
       "    .dataframe tbody tr th:only-of-type {\n",
       "        vertical-align: middle;\n",
       "    }\n",
       "\n",
       "    .dataframe tbody tr th {\n",
       "        vertical-align: top;\n",
       "    }\n",
       "\n",
       "    .dataframe thead th {\n",
       "        text-align: right;\n",
       "    }\n",
       "</style>\n",
       "<table border=\"1\" class=\"dataframe\">\n",
       "  <thead>\n",
       "    <tr style=\"text-align: right;\">\n",
       "      <th></th>\n",
       "      <th>Year Built</th>\n",
       "      <th>Year Remod/Add</th>\n",
       "      <th>Garage Yr Blt</th>\n",
       "      <th>Yr Sold</th>\n",
       "    </tr>\n",
       "  </thead>\n",
       "  <tbody>\n",
       "    <tr>\n",
       "      <th>0</th>\n",
       "      <td>1960</td>\n",
       "      <td>1960</td>\n",
       "      <td>1960.000000</td>\n",
       "      <td>2010</td>\n",
       "    </tr>\n",
       "    <tr>\n",
       "      <th>1</th>\n",
       "      <td>1961</td>\n",
       "      <td>1961</td>\n",
       "      <td>1961.000000</td>\n",
       "      <td>2010</td>\n",
       "    </tr>\n",
       "    <tr>\n",
       "      <th>2</th>\n",
       "      <td>1958</td>\n",
       "      <td>1958</td>\n",
       "      <td>1958.000000</td>\n",
       "      <td>2010</td>\n",
       "    </tr>\n",
       "    <tr>\n",
       "      <th>3</th>\n",
       "      <td>1968</td>\n",
       "      <td>1968</td>\n",
       "      <td>1968.000000</td>\n",
       "      <td>2010</td>\n",
       "    </tr>\n",
       "    <tr>\n",
       "      <th>4</th>\n",
       "      <td>1997</td>\n",
       "      <td>1998</td>\n",
       "      <td>1997.000000</td>\n",
       "      <td>2010</td>\n",
       "    </tr>\n",
       "    <tr>\n",
       "      <th>...</th>\n",
       "      <td>...</td>\n",
       "      <td>...</td>\n",
       "      <td>...</td>\n",
       "      <td>...</td>\n",
       "    </tr>\n",
       "    <tr>\n",
       "      <th>2925</th>\n",
       "      <td>1984</td>\n",
       "      <td>1984</td>\n",
       "      <td>1984.000000</td>\n",
       "      <td>2006</td>\n",
       "    </tr>\n",
       "    <tr>\n",
       "      <th>2926</th>\n",
       "      <td>1983</td>\n",
       "      <td>1983</td>\n",
       "      <td>1983.000000</td>\n",
       "      <td>2006</td>\n",
       "    </tr>\n",
       "    <tr>\n",
       "      <th>2927</th>\n",
       "      <td>1992</td>\n",
       "      <td>1992</td>\n",
       "      <td>1978.132443</td>\n",
       "      <td>2006</td>\n",
       "    </tr>\n",
       "    <tr>\n",
       "      <th>2928</th>\n",
       "      <td>1974</td>\n",
       "      <td>1975</td>\n",
       "      <td>1975.000000</td>\n",
       "      <td>2006</td>\n",
       "    </tr>\n",
       "    <tr>\n",
       "      <th>2929</th>\n",
       "      <td>1993</td>\n",
       "      <td>1994</td>\n",
       "      <td>1993.000000</td>\n",
       "      <td>2006</td>\n",
       "    </tr>\n",
       "  </tbody>\n",
       "</table>\n",
       "<p>2930 rows × 4 columns</p>\n",
       "</div>"
      ],
      "text/plain": [
       "      Year Built  Year Remod/Add  Garage Yr Blt  Yr Sold\n",
       "0           1960            1960    1960.000000     2010\n",
       "1           1961            1961    1961.000000     2010\n",
       "2           1958            1958    1958.000000     2010\n",
       "3           1968            1968    1968.000000     2010\n",
       "4           1997            1998    1997.000000     2010\n",
       "...          ...             ...            ...      ...\n",
       "2925        1984            1984    1984.000000     2006\n",
       "2926        1983            1983    1983.000000     2006\n",
       "2927        1992            1992    1978.132443     2006\n",
       "2928        1974            1975    1975.000000     2006\n",
       "2929        1993            1994    1993.000000     2006\n",
       "\n",
       "[2930 rows x 4 columns]"
      ]
     },
     "execution_count": 77,
     "metadata": {},
     "output_type": "execute_result"
    }
   ],
   "source": [
    "# Exploring year columns\n",
    "housetr[['Year Built', 'Year Remod/Add', 'Garage Yr Blt', 'Yr Sold']]"
   ]
  },
  {
   "cell_type": "code",
   "execution_count": 78,
   "id": "76aa2727",
   "metadata": {},
   "outputs": [
    {
     "data": {
      "text/plain": [
       "Year Built        0\n",
       "Year Remod/Add    0\n",
       "Garage Yr Blt     0\n",
       "Yr Sold           0\n",
       "dtype: int64"
      ]
     },
     "execution_count": 78,
     "metadata": {},
     "output_type": "execute_result"
    }
   ],
   "source": [
    "housetr[['Year Built', 'Year Remod/Add', 'Garage Yr Blt', 'Yr Sold']].isnull().sum()"
   ]
  },
  {
   "cell_type": "markdown",
   "id": "41f9fd88",
   "metadata": {},
   "source": [
    "Therefore, we will create a new column that is 'years_until_remod' which is the amount of years between year built and year of remodel, which can be useful to machine learning, and dropping the original columns.\n",
    "\n",
    "Another feature column we can create is years until sold which covers the years from the remodel to Yr sold. \n",
    "\n",
    "We will be dropping Garage Yr Blt as it doesn't relate and contains a large amount of null values anyway (~5.4%), which can't simply be filled in with an 'average' year. "
   ]
  },
  {
   "cell_type": "code",
   "execution_count": 79,
   "id": "f95f8d15",
   "metadata": {},
   "outputs": [],
   "source": [
    "housetr['years_until_remod'] =  housetr['Year Remod/Add'] - housetr['Year Built']\n",
    "housetr['years_until_sold'] = housetr['Yr Sold'] - housetr['Year Remod/Add']"
   ]
  },
  {
   "cell_type": "markdown",
   "id": "baa6c1c5",
   "metadata": {},
   "source": [
    "Upon going through the column descriptions, we've also identified PID and Mo Sold as unusuable values for machine learning. PID is unique with each house, making it unviable, and Mo Sold isn't a categorial or continous value. "
   ]
  },
  {
   "cell_type": "code",
   "execution_count": 80,
   "id": "e9235443",
   "metadata": {},
   "outputs": [],
   "source": [
    "housetr = housetr.drop(['Year Remod/Add', 'Year Built', 'Yr Sold', 'Garage Yr Blt', 'PID', 'Mo Sold'], axis=1)"
   ]
  },
  {
   "cell_type": "markdown",
   "id": "f6af9f3e",
   "metadata": {},
   "source": [
    "# Feature Selection: Numerical Columns"
   ]
  },
  {
   "cell_type": "markdown",
   "id": "c60e1642",
   "metadata": {},
   "source": [
    "Prior to everything, we need to convert numerical columns which are actually categorial ones:"
   ]
  },
  {
   "cell_type": "code",
   "execution_count": 81,
   "id": "19b77495",
   "metadata": {},
   "outputs": [],
   "source": [
    "housetr[['MS SubClass','Overall Qual', 'Overall Cond']]= housetr[['MS SubClass','Overall Qual', 'Overall Cond']].astype('category')\n",
    "num_categs = housetr[['MS SubClass','Overall Qual', 'Overall Cond']].astype('category')"
   ]
  },
  {
   "cell_type": "markdown",
   "id": "573f1da4",
   "metadata": {},
   "source": [
    "We will first check the correlations with the target column. If the column has little to no correlation, it will lead to a high RMSE and will be dropped. We will call the function select_features() to do this. This function takes in a given dataframe and a cutoff value for the correlations and outputs a list of columns with correlations (with the target 'SalePrice) above that cutoff value."
   ]
  },
  {
   "cell_type": "code",
   "execution_count": 82,
   "id": "45f30e40",
   "metadata": {},
   "outputs": [],
   "source": [
    "correlated = select_features(housetr, 0.5)"
   ]
  },
  {
   "cell_type": "code",
   "execution_count": 83,
   "id": "34552d22",
   "metadata": {},
   "outputs": [],
   "source": [
    "corr_hnum = housetr[correlated]"
   ]
  },
  {
   "cell_type": "markdown",
   "id": "e72612d5",
   "metadata": {},
   "source": [
    "With the correlated list, we can then proceed to two methods to further refine our columns:\n",
    "1. Principal Component Analysis\n",
    "2. Manual Selection \n",
    "\n",
    "We will perform both methods in this section and test which one is more accurate at the end of the work."
   ]
  },
  {
   "cell_type": "markdown",
   "id": "7ec76bf3",
   "metadata": {},
   "source": [
    "### Principal Component Analysis (PCA)"
   ]
  },
  {
   "cell_type": "markdown",
   "id": "ff9690ec",
   "metadata": {},
   "source": [
    "To prevent result in loss of data/information and would not be feasible with numerical data of high dimensionality. We can apply a **Principal Component Analysis**, **PCA** for short, to reduce dimensionality and minimize multicollinearity."
   ]
  },
  {
   "cell_type": "markdown",
   "id": "8caf54c8",
   "metadata": {},
   "source": [
    "Prior to PCA, we need to scale our data. We will be using min-max scaling:"
   ]
  },
  {
   "cell_type": "code",
   "execution_count": 84,
   "id": "e463c6c6",
   "metadata": {},
   "outputs": [],
   "source": [
    "warnings.simplefilter(action=\"ignore\", category=FutureWarning)\n",
    "scaled = (corr_hnum - np.min(corr_hnum)) / (np.max(corr_hnum) - np.min(corr_hnum))"
   ]
  },
  {
   "cell_type": "markdown",
   "id": "0d730e84",
   "metadata": {},
   "source": [
    "With the PCA module in sklearn, we can find the cumulative variance which will allows us to understand how many essential components for X% of variety of data, which can allow us to eliminate multicollinearity. To visualise this, we will also be plotting a scree plot. All of this is done via the pc_analysis function defined in the Introduction."
   ]
  },
  {
   "cell_type": "code",
   "execution_count": 85,
   "id": "c8d30ad3",
   "metadata": {},
   "outputs": [
    {
     "name": "stdout",
     "output_type": "stream",
     "text": [
      "Cumulative Variance:\n",
      "[ 63.40817796  81.75973155  88.53316772  93.67108239  96.76348465\n",
      "  98.41494667  99.48516643 100.        ]\n"
     ]
    },
    {
     "data": {
      "image/png": "[encoded data removed]",
      "text/plain": [
       "<Figure size 432x288 with 1 Axes>"
      ]
     },
     "metadata": {
      "needs_background": "light"
     },
     "output_type": "display_data"
    },
    {
     "data": {
      "text/plain": [
       "PCA(n_components=8)"
      ]
     },
     "execution_count": 85,
     "metadata": {},
     "output_type": "execute_result"
    }
   ],
   "source": [
    "pc_analysis(scaled, scaled.shape[1])"
   ]
  },
  {
   "cell_type": "markdown",
   "id": "ab87deb4",
   "metadata": {},
   "source": [
    "Let us set a cutoff cumulative variance of 90% to minimize collinearity but still maintain a feasible amount of data. "
   ]
  },
  {
   "cell_type": "code",
   "execution_count": 86,
   "id": "2afba314",
   "metadata": {
    "scrolled": true
   },
   "outputs": [
    {
     "name": "stdout",
     "output_type": "stream",
     "text": [
      "Cumulative Variance:\n",
      "[63.40817796 81.75973155 88.53316772 93.67108239 96.76348465 98.41494667\n",
      " 99.48516643]\n"
     ]
    },
    {
     "data": {
      "image/png": "[encoded data removed]",
      "text/plain": [
       "<Figure size 432x288 with 1 Axes>"
      ]
     },
     "metadata": {
      "needs_background": "light"
     },
     "output_type": "display_data"
    }
   ],
   "source": [
    "x = pc_analysis(scaled, 0.99)\n",
    "x_scale = x.transform(scaled)\n",
    "pca_df = pd.DataFrame(x_scale)"
   ]
  },
  {
   "cell_type": "markdown",
   "id": "368c0089",
   "metadata": {},
   "source": [
    "### Manual Selection"
   ]
  },
  {
   "cell_type": "markdown",
   "id": "cca669f6",
   "metadata": {},
   "source": [
    "For manual selection, we can create a heatmap amongst the column to check for multicollinearity."
   ]
  },
  {
   "cell_type": "code",
   "execution_count": 87,
   "id": "9c55ab48",
   "metadata": {
    "scrolled": true
   },
   "outputs": [
    {
     "name": "stdout",
     "output_type": "stream",
     "text": [
      "                  Mas Vnr Area  Total Bsmt SF  1st Flr SF  Gr Liv Area  \\\n",
      "Mas Vnr Area          1.000000       0.393530    0.392280     0.400703   \n",
      "Total Bsmt SF         0.393530       1.000000    0.800429     0.445108   \n",
      "1st Flr SF            0.392280       0.800429    1.000000     0.562166   \n",
      "Gr Liv Area           0.400703       0.445108    0.562166     1.000000   \n",
      "Full Bath             0.254471       0.325434    0.371584     0.630321   \n",
      "Garage Cars           0.356646       0.437861    0.439370     0.488854   \n",
      "Garage Area           0.370479       0.485608    0.491208     0.483971   \n",
      "years_until_sold     -0.192819      -0.299078   -0.242987    -0.318549   \n",
      "\n",
      "                  Full Bath  Garage Cars  Garage Area  years_until_sold  \n",
      "Mas Vnr Area       0.254471     0.356646     0.370479         -0.192819  \n",
      "Total Bsmt SF      0.325434     0.437861     0.485608         -0.299078  \n",
      "1st Flr SF         0.371584     0.439370     0.491208         -0.242987  \n",
      "Gr Liv Area        0.630321     0.488854     0.483971         -0.318549  \n",
      "Full Bath          1.000000     0.478206     0.406497         -0.457598  \n",
      "Garage Cars        0.478206     1.000000     0.888699         -0.426887  \n",
      "Garage Area        0.406497     0.888699     1.000000         -0.376385  \n",
      "years_until_sold  -0.457598    -0.426887    -0.376385          1.000000  \n"
     ]
    },
    {
     "data": {
      "image/png": "[encoded data removed]",
      "text/plain": [
       "<Figure size 432x288 with 2 Axes>"
      ]
     },
     "metadata": {
      "needs_background": "light"
     },
     "output_type": "display_data"
    }
   ],
   "source": [
    "heatmap_corrs = scaled.corr()\n",
    "print(heatmap_corrs)\n",
    "sns.heatmap(heatmap_corrs)\n",
    "plt.show()"
   ]
  },
  {
   "cell_type": "markdown",
   "id": "dd27845b",
   "metadata": {},
   "source": [
    "We will eliminate columns Garage Cars becasue Garage Cars and Garage Area have high correlations and the column descriptions suggest similarity. "
   ]
  },
  {
   "cell_type": "code",
   "execution_count": 88,
   "id": "93fcab8e",
   "metadata": {},
   "outputs": [],
   "source": [
    "man_scaled = scaled.drop(['Garage Cars'], axis=1)"
   ]
  },
  {
   "cell_type": "markdown",
   "id": "73f8f220",
   "metadata": {},
   "source": [
    "We will also have to evaluate the variances, we can create a cutoff variance of a minimum of 1%."
   ]
  },
  {
   "cell_type": "code",
   "execution_count": 89,
   "id": "b13d4ce1",
   "metadata": {},
   "outputs": [],
   "source": [
    "fman_sc_cols = variance_cutoff(man_scaled, 0.01)\n",
    "fman_sc = man_scaled[fman_sc_cols]"
   ]
  },
  {
   "cell_type": "markdown",
   "id": "650434a1",
   "metadata": {},
   "source": [
    "# Feature Selection: Object Columns¶"
   ]
  },
  {
   "cell_type": "markdown",
   "id": "d830996a",
   "metadata": {},
   "source": [
    "Upon converting 3 numerical features to categorial features, we will now be considering all object columns and evelauting whether they can be classified as categorial. If they are, we will then evaluate them based on the number of possible categories. The reason for this is if a column possesses a large number of categories, dummy coding the categories will lead to a far larger dataframe and a high processing time. "
   ]
  },
  {
   "cell_type": "markdown",
   "id": "f8fe94db",
   "metadata": {},
   "source": [
    "We will be implementing 2 targets, we will eliminate all categorial columns with 10 or more unique values to prevent long processing times as we dummy the category columns and we will eliminate categorial columns that have 95% of the same value."
   ]
  },
  {
   "cell_type": "code",
   "execution_count": 90,
   "id": "fa56eb85",
   "metadata": {
    "scrolled": false
   },
   "outputs": [],
   "source": [
    "# Creating a merged list of all categorial data\n",
    "housetr = housetr.select_dtypes(include=['object']).astype('category')\n",
    "objects = housetr.select_dtypes(include=['category'])\n",
    "categs = pd.concat([objects, num_categs], axis=1)"
   ]
  },
  {
   "cell_type": "code",
   "execution_count": 91,
   "id": "121e9f8a",
   "metadata": {},
   "outputs": [],
   "source": [
    "cleaned_columns = []\n",
    "for col in categs.columns: \n",
    "    flag = False\n",
    "    vals = categs[col].value_counts()\n",
    "    for val in vals: \n",
    "        if (val)/(categs.shape[0])>0.95:\n",
    "            flag = True\n",
    "    if len(vals)>=10:\n",
    "        flag=True\n",
    "    if flag==True:\n",
    "        continue \n",
    "    else:\n",
    "        cleaned_columns.append(col)\n",
    "categf = categs[cleaned_columns]"
   ]
  },
  {
   "cell_type": "markdown",
   "id": "3377bcf0",
   "metadata": {},
   "source": [
    "# Testing"
   ]
  },
  {
   "cell_type": "markdown",
   "id": "b19096fc",
   "metadata": {},
   "source": [
    "For the testing, we will perform an analysis to see whether PCA or Manual Selection performed better. Furthermore, with the better numerical dataset, we will perform a sensitivity analysis about which categorial column alongside produces the lowest RMSE. With the best categorial column then, we will peform another sensitivity analysis to see which k value will produce the lowest RMSE. "
   ]
  },
  {
   "cell_type": "markdown",
   "id": "0f61769c",
   "metadata": {},
   "source": [
    "### PCA vs. Manual Selection"
   ]
  },
  {
   "cell_type": "code",
   "execution_count": 92,
   "id": "508f66be",
   "metadata": {},
   "outputs": [
    {
     "name": "stdout",
     "output_type": "stream",
     "text": [
      "The Average RMSE value with the PCA technique is 40808.921253681154.\n",
      "The Average RMSE value with the manual technique is 49642.08556011526.\n"
     ]
    }
   ],
   "source": [
    "pca_final = pca_df\n",
    "pca_final['SalePrice'] = house['SalePrice']\n",
    "manual_final = fman_sc\n",
    "manual_final['SalePrice'] = house['SalePrice']\n",
    "print('The Average RMSE value with the PCA technique is {}.'.format(train_and_test(pca_final,2)))\n",
    "print('The Average RMSE value with the manual technique is {}.'.format(train_and_test(manual_final,2)))"
   ]
  },
  {
   "cell_type": "markdown",
   "id": "294a89cf",
   "metadata": {},
   "source": [
    "We can see, as expected, PCA offers a far lower RMSE value. We will therefore proceed with the PCA dataset in the further analyses."
   ]
  },
  {
   "cell_type": "markdown",
   "id": "d581bb67",
   "metadata": {},
   "source": [
    "### Sensitivity Analysis: Categorial Column"
   ]
  },
  {
   "cell_type": "code",
   "execution_count": 93,
   "id": "25c54f12",
   "metadata": {},
   "outputs": [
    {
     "data": {
      "text/html": [
       "<div>\n",
       "<style scoped>\n",
       "    .dataframe tbody tr th:only-of-type {\n",
       "        vertical-align: middle;\n",
       "    }\n",
       "\n",
       "    .dataframe tbody tr th {\n",
       "        vertical-align: top;\n",
       "    }\n",
       "\n",
       "    .dataframe thead th {\n",
       "        text-align: right;\n",
       "    }\n",
       "</style>\n",
       "<table border=\"1\" class=\"dataframe\">\n",
       "  <thead>\n",
       "    <tr style=\"text-align: right;\">\n",
       "      <th></th>\n",
       "      <th>0</th>\n",
       "      <th>1</th>\n",
       "      <th>2</th>\n",
       "      <th>3</th>\n",
       "      <th>4</th>\n",
       "      <th>5</th>\n",
       "      <th>6</th>\n",
       "      <th>SalePrice</th>\n",
       "      <th>IR1</th>\n",
       "      <th>IR2</th>\n",
       "      <th>IR3</th>\n",
       "      <th>Reg</th>\n",
       "    </tr>\n",
       "  </thead>\n",
       "  <tbody>\n",
       "    <tr>\n",
       "      <th>0</th>\n",
       "      <td>-0.377586</td>\n",
       "      <td>0.231773</td>\n",
       "      <td>-0.073576</td>\n",
       "      <td>0.054457</td>\n",
       "      <td>0.084317</td>\n",
       "      <td>0.041142</td>\n",
       "      <td>-0.036124</td>\n",
       "      <td>215000</td>\n",
       "      <td>1</td>\n",
       "      <td>0</td>\n",
       "      <td>0</td>\n",
       "      <td>0</td>\n",
       "    </tr>\n",
       "    <tr>\n",
       "      <th>1</th>\n",
       "      <td>-0.425002</td>\n",
       "      <td>0.099384</td>\n",
       "      <td>-0.148185</td>\n",
       "      <td>-0.022688</td>\n",
       "      <td>0.017611</td>\n",
       "      <td>-0.022976</td>\n",
       "      <td>0.221749</td>\n",
       "      <td>105000</td>\n",
       "      <td>0</td>\n",
       "      <td>0</td>\n",
       "      <td>0</td>\n",
       "      <td>1</td>\n",
       "    </tr>\n",
       "    <tr>\n",
       "      <th>2</th>\n",
       "      <td>-0.501501</td>\n",
       "      <td>0.039919</td>\n",
       "      <td>0.022015</td>\n",
       "      <td>0.099393</td>\n",
       "      <td>0.082344</td>\n",
       "      <td>-0.010819</td>\n",
       "      <td>0.001587</td>\n",
       "      <td>172000</td>\n",
       "      <td>1</td>\n",
       "      <td>0</td>\n",
       "      <td>0</td>\n",
       "      <td>0</td>\n",
       "    </tr>\n",
       "    <tr>\n",
       "      <th>3</th>\n",
       "      <td>-0.181477</td>\n",
       "      <td>0.282105</td>\n",
       "      <td>0.146655</td>\n",
       "      <td>-0.031982</td>\n",
       "      <td>0.230071</td>\n",
       "      <td>-0.035898</td>\n",
       "      <td>-0.038023</td>\n",
       "      <td>244000</td>\n",
       "      <td>0</td>\n",
       "      <td>0</td>\n",
       "      <td>0</td>\n",
       "      <td>1</td>\n",
       "    </tr>\n",
       "    <tr>\n",
       "      <th>4</th>\n",
       "      <td>0.194331</td>\n",
       "      <td>-0.051871</td>\n",
       "      <td>0.036855</td>\n",
       "      <td>-0.112252</td>\n",
       "      <td>-0.030984</td>\n",
       "      <td>0.007441</td>\n",
       "      <td>-0.009607</td>\n",
       "      <td>189900</td>\n",
       "      <td>1</td>\n",
       "      <td>0</td>\n",
       "      <td>0</td>\n",
       "      <td>0</td>\n",
       "    </tr>\n",
       "  </tbody>\n",
       "</table>\n",
       "</div>"
      ],
      "text/plain": [
       "          0         1         2         3         4         5         6  \\\n",
       "0 -0.377586  0.231773 -0.073576  0.054457  0.084317  0.041142 -0.036124   \n",
       "1 -0.425002  0.099384 -0.148185 -0.022688  0.017611 -0.022976  0.221749   \n",
       "2 -0.501501  0.039919  0.022015  0.099393  0.082344 -0.010819  0.001587   \n",
       "3 -0.181477  0.282105  0.146655 -0.031982  0.230071 -0.035898 -0.038023   \n",
       "4  0.194331 -0.051871  0.036855 -0.112252 -0.030984  0.007441 -0.009607   \n",
       "\n",
       "   SalePrice  IR1  IR2  IR3  Reg  \n",
       "0     215000    1    0    0    0  \n",
       "1     105000    0    0    0    1  \n",
       "2     172000    1    0    0    0  \n",
       "3     244000    0    0    0    1  \n",
       "4     189900    1    0    0    0  "
      ]
     },
     "execution_count": 93,
     "metadata": {},
     "output_type": "execute_result"
    }
   ],
   "source": [
    "merged = pd.concat([pca_df, pd.get_dummies(categf.iloc[:,1])], axis=1)\n",
    "merged.head()"
   ]
  },
  {
   "cell_type": "code",
   "execution_count": 107,
   "id": "04ef501d",
   "metadata": {},
   "outputs": [
    {
     "name": "stdout",
     "output_type": "stream",
     "text": [
      "Bsmt Qual\n"
     ]
    }
   ],
   "source": [
    "rmses = {} \n",
    "reference = pca_df\n",
    "reference['SalePrice'] = house['SalePrice']\n",
    "for col in categf.columns:\n",
    "    merged = pd.concat([pca_df, pd.get_dummies(categf[col])], axis=1)\n",
    "    test = train_and_test(merged, 2)\n",
    "    rmses[col] = test \n",
    "print(min(rmses, key=lambda x: rmses[x]))"
   ]
  },
  {
   "cell_type": "markdown",
   "id": "0be8e8ab",
   "metadata": {},
   "source": [
    "We can see that Bsmt Qual categorial column leads to the lowest RMSE. "
   ]
  },
  {
   "cell_type": "markdown",
   "id": "7831ed88",
   "metadata": {},
   "source": [
    "### Sensitivity Analysis: K Fold Value"
   ]
  },
  {
   "cell_type": "code",
   "execution_count": 116,
   "id": "1f5c513b",
   "metadata": {},
   "outputs": [
    {
     "data": {
      "image/png": "[encoded data removed]",
      "text/plain": [
       "<Figure size 432x288 with 1 Axes>"
      ]
     },
     "metadata": {
      "needs_background": "light"
     },
     "output_type": "display_data"
    }
   ],
   "source": [
    "rmses = []\n",
    "kfold_df = pd.concat([pca_df,pd.get_dummies(categf['Bsmt Qual'])], axis=1)\n",
    "for k in range(25,100):\n",
    "    test = train_and_test(kfold_df, k)\n",
    "    rmses.append(test)\n",
    "plt.plot(range(25,100), rmses)\n",
    "plt.xlabel('K Value')\n",
    "plt.ylabel('RMSE')\n",
    "plt.show()"
   ]
  },
  {
   "cell_type": "markdown",
   "id": "061ef657",
   "metadata": {},
   "source": [
    "It can be seen that as we increase the k value, signifying a higher number of splits of data as we test linear regression, it leads to a lower RMSE. Let us perform hold one out evaluation to see if that would expectedly decrease the RMSE."
   ]
  },
  {
   "cell_type": "code",
   "execution_count": 117,
   "id": "89d9c5a6",
   "metadata": {},
   "outputs": [
    {
     "name": "stdout",
     "output_type": "stream",
     "text": [
      "23708.78103401199\n"
     ]
    }
   ],
   "source": [
    "print(train_and_test(kfold_df, kfold_df.shape[0]))"
   ]
  },
  {
   "cell_type": "markdown",
   "id": "be90b84d",
   "metadata": {},
   "source": [
    "We can see that a hold one out evaluation signifcantly decreased the RMSE value to ~23000. The RMSE is not low enough to justify the model's accurate predictions, however, further feature engineering and using multiple categorial columns may decrease the RMSE even further. Furthermore, Chi-squared tests could also be considered for feature selection for the categorial columns."
   ]
  }
 ],
 "metadata": {
  "kernelspec": {
   "display_name": "Python 3 (ipykernel)",
   "language": "python",
   "name": "python3"
  },
  "language_info": {
   "codemirror_mode": {
    "name": "ipython",
    "version": 3
   },
   "file_extension": ".py",
   "mimetype": "text/x-python",
   "name": "python",
   "nbconvert_exporter": "python",
   "pygments_lexer": "ipython3",
   "version": "3.9.12"
  }
 },
 "nbformat": 4,
 "nbformat_minor": 5
}
